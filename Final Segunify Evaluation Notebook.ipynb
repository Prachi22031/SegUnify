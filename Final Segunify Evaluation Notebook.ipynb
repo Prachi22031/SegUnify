{
 "cells": [
  {
   "cell_type": "code",
   "execution_count": 1,
   "metadata": {
    "execution": {
     "iopub.execute_input": "2024-12-29T14:49:06.298676Z",
     "iopub.status.busy": "2024-12-29T14:49:06.298264Z",
     "iopub.status.idle": "2024-12-29T14:49:06.652754Z",
     "shell.execute_reply": "2024-12-29T14:49:06.651902Z",
     "shell.execute_reply.started": "2024-12-29T14:49:06.298638Z"
    },
    "trusted": true
   },
   "outputs": [],
   "source": [
    "import numpy as np # linear algebra\n",
    "import pandas as pd "
   ]
  },
  {
   "cell_type": "code",
   "execution_count": null,
   "metadata": {
    "execution": {
     "iopub.execute_input": "2024-12-29T14:49:06.654738Z",
     "iopub.status.busy": "2024-12-29T14:49:06.654286Z",
     "iopub.status.idle": "2024-12-29T14:49:06.659259Z",
     "shell.execute_reply": "2024-12-29T14:49:06.658385Z",
     "shell.execute_reply.started": "2024-12-29T14:49:06.654701Z"
    },
    "trusted": true
   },
   "outputs": [],
   "source": [
    "import os\n",
    "\n",
    "output_dir = '/kaggle/working/output/'\n",
    "os.makedirs(output_dir, exist_ok=True)"
   ]
  },
  {
   "cell_type": "code",
   "execution_count": 3,
   "metadata": {
    "execution": {
     "iopub.execute_input": "2024-12-29T14:49:06.806410Z",
     "iopub.status.busy": "2024-12-29T14:49:06.805730Z",
     "iopub.status.idle": "2024-12-29T14:49:09.964269Z",
     "shell.execute_reply": "2024-12-29T14:49:09.963319Z",
     "shell.execute_reply.started": "2024-12-29T14:49:06.806358Z"
    },
    "trusted": true
   },
   "outputs": [
    {
     "name": "stdout",
     "output_type": "stream",
     "text": [
      "2.4.0\n",
      "True\n"
     ]
    }
   ],
   "source": [
    "import torch\n",
    "print(torch.__version__)\n",
    "print(torch.cuda.is_available())  # Check if CUDA is enabled"
   ]
  },
  {
   "cell_type": "code",
   "execution_count": null,
   "metadata": {
    "execution": {
     "iopub.execute_input": "2024-12-29T14:49:09.967000Z",
     "iopub.status.busy": "2024-12-29T14:49:09.966219Z",
     "iopub.status.idle": "2024-12-29T14:51:22.986558Z",
     "shell.execute_reply": "2024-12-29T14:51:22.985463Z",
     "shell.execute_reply.started": "2024-12-29T14:49:09.966956Z"
    },
    "trusted": true
   },
   "outputs": [
    {
     "name": "stdout",
     "output_type": "stream",
     "text": [
      "Collecting git+https://github.com/lucasb-eyer/pydensecrf.git (from -r /kaggle/input/smooseg-image-try6/requirements.txt (line 21))\n",
      "  Cloning https://github.com/lucasb-eyer/pydensecrf.git to /tmp/pip-req-build-54q3kooo\n",
      "  Running command git clone --filter=blob:none --quiet https://github.com/lucasb-eyer/pydensecrf.git /tmp/pip-req-build-54q3kooo\n",
      "  Resolved https://github.com/lucasb-eyer/pydensecrf.git to commit 2723c7fa4f2ead16ae1ce3d8afe977724bb8f87f\n",
      "  Installing build dependencies ... \u001b[?25ldone\n",
      "\u001b[?25h  Getting requirements to build wheel ... \u001b[?25ldone\n",
      "\u001b[?25h  Preparing metadata (pyproject.toml) ... \u001b[?25ldone\n",
      "\u001b[?25hCollecting azureml==0.2.7 (from -r /kaggle/input/smooseg-image-try6/requirements.txt (line 1))\n",
      "  Downloading azureml-0.2.7-py2.py3-none-any.whl.metadata (772 bytes)\n",
      "Collecting azureml_core==1.52.0 (from -r /kaggle/input/smooseg-image-try6/requirements.txt (line 2))\n",
      "  Downloading azureml_core-1.52.0-py3-none-any.whl.metadata (3.2 kB)\n",
      "Collecting einops==0.7.0 (from -r /kaggle/input/smooseg-image-try6/requirements.txt (line 3))\n",
      "  Downloading einops-0.7.0-py3-none-any.whl.metadata (13 kB)\n",
      "Collecting fvcore==0.1.5.post20221221 (from -r /kaggle/input/smooseg-image-try6/requirements.txt (line 4))\n",
      "  Downloading fvcore-0.1.5.post20221221.tar.gz (50 kB)\n",
      "\u001b[2K     \u001b[90m━━━━━━━━━━━━━━━━━━━━━━━━━━━━━━━━━━━━━━━━\u001b[0m \u001b[32m50.2/50.2 kB\u001b[0m \u001b[31m2.1 MB/s\u001b[0m eta \u001b[36m0:00:00\u001b[0m\n",
      "\u001b[?25h  Preparing metadata (setup.py) ... \u001b[?25ldone\n",
      "\u001b[?25hCollecting hydra-core==1.3.2 (from -r /kaggle/input/smooseg-image-try6/requirements.txt (line 5))\n",
      "  Downloading hydra_core-1.3.2-py3-none-any.whl.metadata (5.5 kB)\n",
      "Collecting matplotlib==3.7.1 (from -r /kaggle/input/smooseg-image-try6/requirements.txt (line 6))\n",
      "  Downloading matplotlib-3.7.1-cp310-cp310-manylinux_2_17_x86_64.manylinux2014_x86_64.whl.metadata (5.6 kB)\n",
      "Collecting numpy==1.25.0 (from -r /kaggle/input/smooseg-image-try6/requirements.txt (line 7))\n",
      "  Downloading numpy-1.25.0-cp310-cp310-manylinux_2_17_x86_64.manylinux2014_x86_64.whl.metadata (5.6 kB)\n",
      "Collecting omegaconf==2.3.0 (from -r /kaggle/input/smooseg-image-try6/requirements.txt (line 8))\n",
      "  Downloading omegaconf-2.3.0-py3-none-any.whl.metadata (3.9 kB)\n",
      "Collecting opencv_python==4.8.0.74 (from -r /kaggle/input/smooseg-image-try6/requirements.txt (line 9))\n",
      "  Downloading opencv_python-4.8.0.74-cp37-abi3-manylinux_2_17_x86_64.manylinux2014_x86_64.whl.metadata (19 kB)\n",
      "Collecting opencv_python_headless==4.8.0.74 (from -r /kaggle/input/smooseg-image-try6/requirements.txt (line 10))\n",
      "  Downloading opencv_python_headless-4.8.0.74-cp37-abi3-manylinux_2_17_x86_64.manylinux2014_x86_64.whl.metadata (19 kB)\n",
      "Collecting Pillow==10.1.0 (from -r /kaggle/input/smooseg-image-try6/requirements.txt (line 11))\n",
      "  Downloading Pillow-10.1.0-cp310-cp310-manylinux_2_28_x86_64.whl.metadata (9.5 kB)\n",
      "Collecting pycocotools==2.0.6 (from -r /kaggle/input/smooseg-image-try6/requirements.txt (line 12))\n",
      "  Downloading pycocotools-2.0.6.tar.gz (24 kB)\n",
      "  Installing build dependencies ... \u001b[?25ldone\n",
      "\u001b[?25h  Getting requirements to build wheel ... \u001b[?25ldone\n",
      "\u001b[?25h  Preparing metadata (pyproject.toml) ... \u001b[?25ldone\n",
      "\u001b[?25hCollecting pytorch_lightning==2.0.4 (from -r /kaggle/input/smooseg-image-try6/requirements.txt (line 13))\n",
      "  Downloading pytorch_lightning-2.0.4-py3-none-any.whl.metadata (23 kB)\n",
      "Collecting scikit_learn==1.3.0 (from -r /kaggle/input/smooseg-image-try6/requirements.txt (line 14))\n",
      "  Downloading scikit_learn-1.3.0-cp310-cp310-manylinux_2_17_x86_64.manylinux2014_x86_64.whl.metadata (11 kB)\n",
      "Collecting scipy==1.11.3 (from -r /kaggle/input/smooseg-image-try6/requirements.txt (line 15))\n",
      "  Downloading scipy-1.11.3-cp310-cp310-manylinux_2_17_x86_64.manylinux2014_x86_64.whl.metadata (60 kB)\n",
      "\u001b[2K     \u001b[90m━━━━━━━━━━━━━━━━━━━━━━━━━━━━━━━━━━━━━━━━\u001b[0m \u001b[32m60.4/60.4 kB\u001b[0m \u001b[31m3.7 MB/s\u001b[0m eta \u001b[36m0:00:00\u001b[0m\n",
      "\u001b[?25hCollecting submitit==1.5.0 (from -r /kaggle/input/smooseg-image-try6/requirements.txt (line 16))\n",
      "  Downloading submitit-1.5.0-py3-none-any.whl.metadata (8.0 kB)\n",
      "Collecting timm==0.9.2 (from -r /kaggle/input/smooseg-image-try6/requirements.txt (line 17))\n",
      "  Downloading timm-0.9.2-py3-none-any.whl.metadata (68 kB)\n",
      "\u001b[2K     \u001b[90m━━━━━━━━━━━━━━━━━━━━━━━━━━━━━━━━━━━━━━━━\u001b[0m \u001b[32m68.5/68.5 kB\u001b[0m \u001b[31m4.3 MB/s\u001b[0m eta \u001b[36m0:00:00\u001b[0m\n",
      "\u001b[?25hCollecting tqdm==4.65.0 (from -r /kaggle/input/smooseg-image-try6/requirements.txt (line 18))\n",
      "  Downloading tqdm-4.65.0-py3-none-any.whl.metadata (56 kB)\n",
      "\u001b[2K     \u001b[90m━━━━━━━━━━━━━━━━━━━━━━━━━━━━━━━━━━━━━━━━\u001b[0m \u001b[32m57.0/57.0 kB\u001b[0m \u001b[31m3.5 MB/s\u001b[0m eta \u001b[36m0:00:00\u001b[0m\n",
      "\u001b[?25hCollecting wget==3.2 (from -r /kaggle/input/smooseg-image-try6/requirements.txt (line 19))\n",
      "  Downloading wget-3.2.zip (10 kB)\n",
      "  Preparing metadata (setup.py) ... \u001b[?25ldone\n",
      "\u001b[?25hCollecting tensorboard==2.13.0 (from -r /kaggle/input/smooseg-image-try6/requirements.txt (line 20))\n",
      "  Downloading tensorboard-2.13.0-py3-none-any.whl.metadata (1.8 kB)\n",
      "Requirement already satisfied: pandas in /opt/conda/lib/python3.10/site-packages (from azureml==0.2.7->-r /kaggle/input/smooseg-image-try6/requirements.txt (line 1)) (2.2.3)\n",
      "Requirement already satisfied: python-dateutil in /opt/conda/lib/python3.10/site-packages (from azureml==0.2.7->-r /kaggle/input/smooseg-image-try6/requirements.txt (line 1)) (2.9.0.post0)\n",
      "Requirement already satisfied: requests in /opt/conda/lib/python3.10/site-packages (from azureml==0.2.7->-r /kaggle/input/smooseg-image-try6/requirements.txt (line 1)) (2.32.3)\n",
      "Requirement already satisfied: pytz in /opt/conda/lib/python3.10/site-packages (from azureml_core==1.52.0->-r /kaggle/input/smooseg-image-try6/requirements.txt (line 2)) (2024.1)\n",
      "Collecting backports.tempfile (from azureml_core==1.52.0->-r /kaggle/input/smooseg-image-try6/requirements.txt (line 2))\n",
      "  Downloading backports.tempfile-1.0-py2.py3-none-any.whl.metadata (2.3 kB)\n",
      "Collecting pathspec<1.0.0 (from azureml_core==1.52.0->-r /kaggle/input/smooseg-image-try6/requirements.txt (line 2))\n",
      "  Downloading pathspec-0.12.1-py3-none-any.whl.metadata (21 kB)\n",
      "Collecting msal<2.0.0,>=1.15.0 (from azureml_core==1.52.0->-r /kaggle/input/smooseg-image-try6/requirements.txt (line 2))\n",
      "  Downloading msal-1.31.1-py3-none-any.whl.metadata (11 kB)\n",
      "Collecting msal-extensions<=1.0.0,>=0.3.0 (from azureml_core==1.52.0->-r /kaggle/input/smooseg-image-try6/requirements.txt (line 2))\n",
      "  Downloading msal_extensions-1.0.0-py2.py3-none-any.whl.metadata (7.3 kB)\n",
      "Collecting knack~=0.10.0 (from azureml_core==1.52.0->-r /kaggle/input/smooseg-image-try6/requirements.txt (line 2))\n",
      "  Downloading knack-0.10.1-py3-none-any.whl.metadata (5.2 kB)\n",
      "Collecting azure-core<2.0.0 (from azureml_core==1.52.0->-r /kaggle/input/smooseg-image-try6/requirements.txt (line 2))\n",
      "  Downloading azure_core-1.32.0-py3-none-any.whl.metadata (39 kB)\n",
      "Collecting pkginfo (from azureml_core==1.52.0->-r /kaggle/input/smooseg-image-try6/requirements.txt (line 2))\n",
      "  Downloading pkginfo-1.12.0-py3-none-any.whl.metadata (12 kB)\n",
      "Collecting argcomplete<3 (from azureml_core==1.52.0->-r /kaggle/input/smooseg-image-try6/requirements.txt (line 2))\n",
      "  Downloading argcomplete-2.1.2-py3-none-any.whl.metadata (17 kB)\n",
      "Collecting humanfriendly<11.0,>=4.7 (from azureml_core==1.52.0->-r /kaggle/input/smooseg-image-try6/requirements.txt (line 2))\n",
      "  Downloading humanfriendly-10.0-py2.py3-none-any.whl.metadata (9.2 kB)\n",
      "Collecting paramiko<4.0.0,>=2.0.8 (from azureml_core==1.52.0->-r /kaggle/input/smooseg-image-try6/requirements.txt (line 2))\n",
      "  Downloading paramiko-3.5.0-py3-none-any.whl.metadata (4.4 kB)\n",
      "Collecting azure-mgmt-resource<=22.0.0,>=15.0.0 (from azureml_core==1.52.0->-r /kaggle/input/smooseg-image-try6/requirements.txt (line 2))\n",
      "  Downloading azure_mgmt_resource-22.0.0-py3-none-any.whl.metadata (30 kB)\n",
      "Collecting azure-mgmt-containerregistry<11,>=8.2.0 (from azureml_core==1.52.0->-r /kaggle/input/smooseg-image-try6/requirements.txt (line 2))\n",
      "  Downloading azure_mgmt_containerregistry-10.3.0-py3-none-any.whl.metadata (23 kB)\n",
      "Collecting azure-mgmt-storage<=21.0.0,>=16.0.0 (from azureml_core==1.52.0->-r /kaggle/input/smooseg-image-try6/requirements.txt (line 2))\n",
      "  Downloading azure_mgmt_storage-21.0.0-py3-none-any.whl.metadata (28 kB)\n",
      "Collecting azure-mgmt-keyvault<11.0.0,>=0.40.0 (from azureml_core==1.52.0->-r /kaggle/input/smooseg-image-try6/requirements.txt (line 2))\n",
      "  Downloading azure_mgmt_keyvault-10.3.1-py3-none-any.whl.metadata (15 kB)\n",
      "Collecting azure-mgmt-authorization<4,>=0.40.0 (from azureml_core==1.52.0->-r /kaggle/input/smooseg-image-try6/requirements.txt (line 2))\n",
      "  Downloading azure_mgmt_authorization-3.0.0-py3-none-any.whl.metadata (14 kB)\n",
      "Collecting azure-graphrbac<1.0.0,>=0.40.0 (from azureml_core==1.52.0->-r /kaggle/input/smooseg-image-try6/requirements.txt (line 2))\n",
      "  Downloading azure_graphrbac-0.61.2-py2.py3-none-any.whl.metadata (11 kB)\n",
      "Collecting azure-common<2.0.0,>=1.1.12 (from azureml_core==1.52.0->-r /kaggle/input/smooseg-image-try6/requirements.txt (line 2))\n",
      "  Downloading azure_common-1.1.28-py2.py3-none-any.whl.metadata (5.0 kB)\n",
      "Collecting msrest<=0.7.1,>=0.5.1 (from azureml_core==1.52.0->-r /kaggle/input/smooseg-image-try6/requirements.txt (line 2))\n",
      "  Downloading msrest-0.7.1-py3-none-any.whl.metadata (21 kB)\n",
      "Collecting msrestazure<=0.6.4,>=0.4.33 (from azureml_core==1.52.0->-r /kaggle/input/smooseg-image-try6/requirements.txt (line 2))\n",
      "  Downloading msrestazure-0.6.4-py2.py3-none-any.whl.metadata (15 kB)\n",
      "Requirement already satisfied: urllib3<2.0.0,>=1.23 in /opt/conda/lib/python3.10/site-packages (from azureml_core==1.52.0->-r /kaggle/input/smooseg-image-try6/requirements.txt (line 2)) (1.26.18)\n",
      "Requirement already satisfied: packaging<=23.0,>=20.0 in /opt/conda/lib/python3.10/site-packages (from azureml_core==1.52.0->-r /kaggle/input/smooseg-image-try6/requirements.txt (line 2)) (21.3)\n",
      "Requirement already satisfied: cryptography!=1.9,!=2.0.*,!=2.1.*,!=2.2.* in /opt/conda/lib/python3.10/site-packages (from azureml_core==1.52.0->-r /kaggle/input/smooseg-image-try6/requirements.txt (line 2)) (42.0.8)\n",
      "Collecting ndg-httpsclient<=0.5.1 (from azureml_core==1.52.0->-r /kaggle/input/smooseg-image-try6/requirements.txt (line 2))\n",
      "  Downloading ndg_httpsclient-0.5.1-py3-none-any.whl.metadata (6.2 kB)\n",
      "Requirement already satisfied: SecretStorage<4.0.0 in /opt/conda/lib/python3.10/site-packages (from azureml_core==1.52.0->-r /kaggle/input/smooseg-image-try6/requirements.txt (line 2)) (3.3.3)\n",
      "Collecting jsonpickle<4.0.0 (from azureml_core==1.52.0->-r /kaggle/input/smooseg-image-try6/requirements.txt (line 2))\n",
      "  Downloading jsonpickle-3.4.2-py3-none-any.whl.metadata (8.1 kB)\n",
      "Collecting contextlib2<22.0.0 (from azureml_core==1.52.0->-r /kaggle/input/smooseg-image-try6/requirements.txt (line 2))\n",
      "  Downloading contextlib2-21.6.0-py2.py3-none-any.whl.metadata (4.1 kB)\n",
      "Collecting docker<7.0.0 (from azureml_core==1.52.0->-r /kaggle/input/smooseg-image-try6/requirements.txt (line 2))\n",
      "  Downloading docker-6.1.3-py3-none-any.whl.metadata (3.5 kB)\n",
      "Requirement already satisfied: PyJWT<3.0.0 in /opt/conda/lib/python3.10/site-packages (from azureml_core==1.52.0->-r /kaggle/input/smooseg-image-try6/requirements.txt (line 2)) (2.8.0)\n",
      "Collecting adal<=1.2.7,>=1.2.0 (from azureml_core==1.52.0->-r /kaggle/input/smooseg-image-try6/requirements.txt (line 2))\n",
      "  Downloading adal-1.2.7-py2.py3-none-any.whl.metadata (6.9 kB)\n",
      "Collecting pyopenssl<24.0.0 (from azureml_core==1.52.0->-r /kaggle/input/smooseg-image-try6/requirements.txt (line 2))\n",
      "  Downloading pyOpenSSL-23.3.0-py3-none-any.whl.metadata (12 kB)\n",
      "Requirement already satisfied: jmespath<2.0.0 in /opt/conda/lib/python3.10/site-packages (from azureml_core==1.52.0->-r /kaggle/input/smooseg-image-try6/requirements.txt (line 2)) (1.0.1)\n",
      "Collecting yacs>=0.1.6 (from fvcore==0.1.5.post20221221->-r /kaggle/input/smooseg-image-try6/requirements.txt (line 4))\n",
      "  Downloading yacs-0.1.8-py3-none-any.whl.metadata (639 bytes)\n",
      "Requirement already satisfied: pyyaml>=5.1 in /opt/conda/lib/python3.10/site-packages (from fvcore==0.1.5.post20221221->-r /kaggle/input/smooseg-image-try6/requirements.txt (line 4)) (6.0.2)\n",
      "Requirement already satisfied: termcolor>=1.1 in /opt/conda/lib/python3.10/site-packages (from fvcore==0.1.5.post20221221->-r /kaggle/input/smooseg-image-try6/requirements.txt (line 4)) (2.4.0)\n",
      "Requirement already satisfied: tabulate in /opt/conda/lib/python3.10/site-packages (from fvcore==0.1.5.post20221221->-r /kaggle/input/smooseg-image-try6/requirements.txt (line 4)) (0.9.0)\n",
      "Collecting iopath>=0.1.7 (from fvcore==0.1.5.post20221221->-r /kaggle/input/smooseg-image-try6/requirements.txt (line 4))\n",
      "  Downloading iopath-0.1.10.tar.gz (42 kB)\n",
      "\u001b[2K     \u001b[90m━━━━━━━━━━━━━━━━━━━━━━━━━━━━━━━━━━━━━━━━\u001b[0m \u001b[32m42.2/42.2 kB\u001b[0m \u001b[31m2.5 MB/s\u001b[0m eta \u001b[36m0:00:00\u001b[0m\n",
      "\u001b[?25h  Preparing metadata (setup.py) ... \u001b[?25ldone\n",
      "\u001b[?25hCollecting antlr4-python3-runtime==4.9.* (from hydra-core==1.3.2->-r /kaggle/input/smooseg-image-try6/requirements.txt (line 5))\n",
      "  Downloading antlr4-python3-runtime-4.9.3.tar.gz (117 kB)\n",
      "\u001b[2K     \u001b[90m━━━━━━━━━━━━━━━━━━━━━━━━━━━━━━━━━━━━━━━\u001b[0m \u001b[32m117.0/117.0 kB\u001b[0m \u001b[31m7.8 MB/s\u001b[0m eta \u001b[36m0:00:00\u001b[0m\n",
      "\u001b[?25h  Preparing metadata (setup.py) ... \u001b[?25ldone\n",
      "\u001b[?25hRequirement already satisfied: contourpy>=1.0.1 in /opt/conda/lib/python3.10/site-packages (from matplotlib==3.7.1->-r /kaggle/input/smooseg-image-try6/requirements.txt (line 6)) (1.2.1)\n",
      "Requirement already satisfied: cycler>=0.10 in /opt/conda/lib/python3.10/site-packages (from matplotlib==3.7.1->-r /kaggle/input/smooseg-image-try6/requirements.txt (line 6)) (0.12.1)\n",
      "Requirement already satisfied: fonttools>=4.22.0 in /opt/conda/lib/python3.10/site-packages (from matplotlib==3.7.1->-r /kaggle/input/smooseg-image-try6/requirements.txt (line 6)) (4.53.0)\n",
      "Requirement already satisfied: kiwisolver>=1.0.1 in /opt/conda/lib/python3.10/site-packages (from matplotlib==3.7.1->-r /kaggle/input/smooseg-image-try6/requirements.txt (line 6)) (1.4.5)\n",
      "Requirement already satisfied: pyparsing>=2.3.1 in /opt/conda/lib/python3.10/site-packages (from matplotlib==3.7.1->-r /kaggle/input/smooseg-image-try6/requirements.txt (line 6)) (3.1.2)\n",
      "Requirement already satisfied: torch>=1.11.0 in /opt/conda/lib/python3.10/site-packages (from pytorch_lightning==2.0.4->-r /kaggle/input/smooseg-image-try6/requirements.txt (line 13)) (2.4.0)\n",
      "Requirement already satisfied: fsspec>2021.06.0 in /opt/conda/lib/python3.10/site-packages (from fsspec[http]>2021.06.0->pytorch_lightning==2.0.4->-r /kaggle/input/smooseg-image-try6/requirements.txt (line 13)) (2024.6.0)\n",
      "Requirement already satisfied: torchmetrics>=0.7.0 in /opt/conda/lib/python3.10/site-packages (from pytorch_lightning==2.0.4->-r /kaggle/input/smooseg-image-try6/requirements.txt (line 13)) (1.6.0)\n",
      "Requirement already satisfied: typing-extensions>=4.0.0 in /opt/conda/lib/python3.10/site-packages (from pytorch_lightning==2.0.4->-r /kaggle/input/smooseg-image-try6/requirements.txt (line 13)) (4.12.2)\n",
      "Requirement already satisfied: lightning-utilities>=0.7.0 in /opt/conda/lib/python3.10/site-packages (from pytorch_lightning==2.0.4->-r /kaggle/input/smooseg-image-try6/requirements.txt (line 13)) (0.11.9)\n",
      "Requirement already satisfied: joblib>=1.1.1 in /opt/conda/lib/python3.10/site-packages (from scikit_learn==1.3.0->-r /kaggle/input/smooseg-image-try6/requirements.txt (line 14)) (1.4.2)\n",
      "Requirement already satisfied: threadpoolctl>=2.0.0 in /opt/conda/lib/python3.10/site-packages (from scikit_learn==1.3.0->-r /kaggle/input/smooseg-image-try6/requirements.txt (line 14)) (3.5.0)\n",
      "Requirement already satisfied: cloudpickle>=1.2.1 in /opt/conda/lib/python3.10/site-packages (from submitit==1.5.0->-r /kaggle/input/smooseg-image-try6/requirements.txt (line 16)) (3.1.0)\n",
      "Requirement already satisfied: torchvision in /opt/conda/lib/python3.10/site-packages (from timm==0.9.2->-r /kaggle/input/smooseg-image-try6/requirements.txt (line 17)) (0.19.0)\n",
      "Requirement already satisfied: huggingface-hub in /opt/conda/lib/python3.10/site-packages (from timm==0.9.2->-r /kaggle/input/smooseg-image-try6/requirements.txt (line 17)) (0.26.2)\n",
      "Requirement already satisfied: safetensors in /opt/conda/lib/python3.10/site-packages (from timm==0.9.2->-r /kaggle/input/smooseg-image-try6/requirements.txt (line 17)) (0.4.5)\n",
      "Requirement already satisfied: absl-py>=0.4 in /opt/conda/lib/python3.10/site-packages (from tensorboard==2.13.0->-r /kaggle/input/smooseg-image-try6/requirements.txt (line 20)) (1.4.0)\n",
      "Requirement already satisfied: grpcio>=1.48.2 in /opt/conda/lib/python3.10/site-packages (from tensorboard==2.13.0->-r /kaggle/input/smooseg-image-try6/requirements.txt (line 20)) (1.62.2)\n",
      "Requirement already satisfied: google-auth<3,>=1.6.3 in /opt/conda/lib/python3.10/site-packages (from tensorboard==2.13.0->-r /kaggle/input/smooseg-image-try6/requirements.txt (line 20)) (2.30.0)\n",
      "Collecting google-auth-oauthlib<1.1,>=0.5 (from tensorboard==2.13.0->-r /kaggle/input/smooseg-image-try6/requirements.txt (line 20))\n",
      "  Downloading google_auth_oauthlib-1.0.0-py2.py3-none-any.whl.metadata (2.7 kB)\n",
      "Requirement already satisfied: markdown>=2.6.8 in /opt/conda/lib/python3.10/site-packages (from tensorboard==2.13.0->-r /kaggle/input/smooseg-image-try6/requirements.txt (line 20)) (3.6)\n",
      "Requirement already satisfied: protobuf>=3.19.6 in /opt/conda/lib/python3.10/site-packages (from tensorboard==2.13.0->-r /kaggle/input/smooseg-image-try6/requirements.txt (line 20)) (3.20.3)\n",
      "Requirement already satisfied: setuptools>=41.0.0 in /opt/conda/lib/python3.10/site-packages (from tensorboard==2.13.0->-r /kaggle/input/smooseg-image-try6/requirements.txt (line 20)) (70.0.0)\n",
      "Requirement already satisfied: tensorboard-data-server<0.8.0,>=0.7.0 in /opt/conda/lib/python3.10/site-packages (from tensorboard==2.13.0->-r /kaggle/input/smooseg-image-try6/requirements.txt (line 20)) (0.7.2)\n",
      "Requirement already satisfied: werkzeug>=1.0.1 in /opt/conda/lib/python3.10/site-packages (from tensorboard==2.13.0->-r /kaggle/input/smooseg-image-try6/requirements.txt (line 20)) (3.1.3)\n",
      "Requirement already satisfied: wheel>=0.26 in /opt/conda/lib/python3.10/site-packages (from tensorboard==2.13.0->-r /kaggle/input/smooseg-image-try6/requirements.txt (line 20)) (0.43.0)\n",
      "Requirement already satisfied: six>=1.11.0 in /opt/conda/lib/python3.10/site-packages (from azure-core<2.0.0->azureml_core==1.52.0->-r /kaggle/input/smooseg-image-try6/requirements.txt (line 2)) (1.16.0)\n",
      "Collecting azure-mgmt-core<2.0.0,>=1.3.2 (from azure-mgmt-authorization<4,>=0.40.0->azureml_core==1.52.0->-r /kaggle/input/smooseg-image-try6/requirements.txt (line 2))\n",
      "  Downloading azure_mgmt_core-1.5.0-py3-none-any.whl.metadata (4.3 kB)\n",
      "Collecting isodate<1.0.0,>=0.6.1 (from azure-mgmt-containerregistry<11,>=8.2.0->azureml_core==1.52.0->-r /kaggle/input/smooseg-image-try6/requirements.txt (line 2))\n",
      "  Downloading isodate-0.7.2-py3-none-any.whl.metadata (11 kB)\n",
      "Requirement already satisfied: cffi>=1.12 in /opt/conda/lib/python3.10/site-packages (from cryptography!=1.9,!=2.0.*,!=2.1.*,!=2.2.*->azureml_core==1.52.0->-r /kaggle/input/smooseg-image-try6/requirements.txt (line 2)) (1.16.0)\n",
      "Requirement already satisfied: websocket-client>=0.32.0 in /opt/conda/lib/python3.10/site-packages (from docker<7.0.0->azureml_core==1.52.0->-r /kaggle/input/smooseg-image-try6/requirements.txt (line 2)) (1.8.0)\n",
      "Requirement already satisfied: aiohttp!=4.0.0a0,!=4.0.0a1 in /opt/conda/lib/python3.10/site-packages (from fsspec[http]>2021.06.0->pytorch_lightning==2.0.4->-r /kaggle/input/smooseg-image-try6/requirements.txt (line 13)) (3.9.5)\n",
      "Requirement already satisfied: cachetools<6.0,>=2.0.0 in /opt/conda/lib/python3.10/site-packages (from google-auth<3,>=1.6.3->tensorboard==2.13.0->-r /kaggle/input/smooseg-image-try6/requirements.txt (line 20)) (4.2.4)\n",
      "Requirement already satisfied: pyasn1-modules>=0.2.1 in /opt/conda/lib/python3.10/site-packages (from google-auth<3,>=1.6.3->tensorboard==2.13.0->-r /kaggle/input/smooseg-image-try6/requirements.txt (line 20)) (0.4.0)\n",
      "Requirement already satisfied: rsa<5,>=3.1.4 in /opt/conda/lib/python3.10/site-packages (from google-auth<3,>=1.6.3->tensorboard==2.13.0->-r /kaggle/input/smooseg-image-try6/requirements.txt (line 20)) (4.9)\n",
      "Requirement already satisfied: requests-oauthlib>=0.7.0 in /opt/conda/lib/python3.10/site-packages (from google-auth-oauthlib<1.1,>=0.5->tensorboard==2.13.0->-r /kaggle/input/smooseg-image-try6/requirements.txt (line 20)) (2.0.0)\n",
      "Collecting portalocker (from iopath>=0.1.7->fvcore==0.1.5.post20221221->-r /kaggle/input/smooseg-image-try6/requirements.txt (line 4))\n",
      "  Downloading portalocker-3.0.0-py3-none-any.whl.metadata (8.5 kB)\n",
      "Requirement already satisfied: pygments in /opt/conda/lib/python3.10/site-packages (from knack~=0.10.0->azureml_core==1.52.0->-r /kaggle/input/smooseg-image-try6/requirements.txt (line 2)) (2.18.0)\n",
      "  Downloading portalocker-2.10.1-py3-none-any.whl.metadata (8.5 kB)\n",
      "Requirement already satisfied: certifi>=2017.4.17 in /opt/conda/lib/python3.10/site-packages (from msrest<=0.7.1,>=0.5.1->azureml_core==1.52.0->-r /kaggle/input/smooseg-image-try6/requirements.txt (line 2)) (2024.6.2)\n",
      "Requirement already satisfied: pyasn1>=0.1.1 in /opt/conda/lib/python3.10/site-packages (from ndg-httpsclient<=0.5.1->azureml_core==1.52.0->-r /kaggle/input/smooseg-image-try6/requirements.txt (line 2)) (0.6.0)\n",
      "Collecting bcrypt>=3.2 (from paramiko<4.0.0,>=2.0.8->azureml_core==1.52.0->-r /kaggle/input/smooseg-image-try6/requirements.txt (line 2))\n",
      "  Downloading bcrypt-4.2.1-cp39-abi3-manylinux_2_28_x86_64.whl.metadata (9.8 kB)\n",
      "Collecting pynacl>=1.5 (from paramiko<4.0.0,>=2.0.8->azureml_core==1.52.0->-r /kaggle/input/smooseg-image-try6/requirements.txt (line 2))\n",
      "  Downloading PyNaCl-1.5.0-cp36-abi3-manylinux_2_17_x86_64.manylinux2014_x86_64.manylinux_2_24_x86_64.whl.metadata (8.6 kB)\n",
      "Collecting cryptography!=1.9,!=2.0.*,!=2.1.*,!=2.2.* (from azureml_core==1.52.0->-r /kaggle/input/smooseg-image-try6/requirements.txt (line 2))\n",
      "  Downloading cryptography-41.0.7-cp37-abi3-manylinux_2_28_x86_64.whl.metadata (5.2 kB)\n",
      "Requirement already satisfied: charset-normalizer<4,>=2 in /opt/conda/lib/python3.10/site-packages (from requests->azureml==0.2.7->-r /kaggle/input/smooseg-image-try6/requirements.txt (line 1)) (3.3.2)\n",
      "Requirement already satisfied: idna<4,>=2.5 in /opt/conda/lib/python3.10/site-packages (from requests->azureml==0.2.7->-r /kaggle/input/smooseg-image-try6/requirements.txt (line 1)) (3.7)\n",
      "Requirement already satisfied: PySocks!=1.5.7,>=1.5.6 in /opt/conda/lib/python3.10/site-packages (from requests[socks]<3.0.0,>=2.19.1->azureml_core==1.52.0->-r /kaggle/input/smooseg-image-try6/requirements.txt (line 2)) (1.7.1)\n",
      "Requirement already satisfied: jeepney>=0.6 in /opt/conda/lib/python3.10/site-packages (from SecretStorage<4.0.0->azureml_core==1.52.0->-r /kaggle/input/smooseg-image-try6/requirements.txt (line 2)) (0.8.0)\n",
      "Requirement already satisfied: filelock in /opt/conda/lib/python3.10/site-packages (from torch>=1.11.0->pytorch_lightning==2.0.4->-r /kaggle/input/smooseg-image-try6/requirements.txt (line 13)) (3.15.1)\n",
      "Requirement already satisfied: sympy in /opt/conda/lib/python3.10/site-packages (from torch>=1.11.0->pytorch_lightning==2.0.4->-r /kaggle/input/smooseg-image-try6/requirements.txt (line 13)) (1.13.3)\n",
      "Requirement already satisfied: networkx in /opt/conda/lib/python3.10/site-packages (from torch>=1.11.0->pytorch_lightning==2.0.4->-r /kaggle/input/smooseg-image-try6/requirements.txt (line 13)) (3.3)\n",
      "Requirement already satisfied: jinja2 in /opt/conda/lib/python3.10/site-packages (from torch>=1.11.0->pytorch_lightning==2.0.4->-r /kaggle/input/smooseg-image-try6/requirements.txt (line 13)) (3.1.4)\n",
      "Requirement already satisfied: MarkupSafe>=2.1.1 in /opt/conda/lib/python3.10/site-packages (from werkzeug>=1.0.1->tensorboard==2.13.0->-r /kaggle/input/smooseg-image-try6/requirements.txt (line 20)) (2.1.5)\n",
      "Collecting backports.weakref (from backports.tempfile->azureml_core==1.52.0->-r /kaggle/input/smooseg-image-try6/requirements.txt (line 2))\n",
      "  Downloading backports.weakref-1.0.post1-py2.py3-none-any.whl.metadata (2.3 kB)\n",
      "Requirement already satisfied: tzdata>=2022.7 in /opt/conda/lib/python3.10/site-packages (from pandas->azureml==0.2.7->-r /kaggle/input/smooseg-image-try6/requirements.txt (line 1)) (2024.1)\n",
      "Requirement already satisfied: aiosignal>=1.1.2 in /opt/conda/lib/python3.10/site-packages (from aiohttp!=4.0.0a0,!=4.0.0a1->fsspec[http]>2021.06.0->pytorch_lightning==2.0.4->-r /kaggle/input/smooseg-image-try6/requirements.txt (line 13)) (1.3.1)\n",
      "Requirement already satisfied: attrs>=17.3.0 in /opt/conda/lib/python3.10/site-packages (from aiohttp!=4.0.0a0,!=4.0.0a1->fsspec[http]>2021.06.0->pytorch_lightning==2.0.4->-r /kaggle/input/smooseg-image-try6/requirements.txt (line 13)) (23.2.0)\n",
      "Requirement already satisfied: frozenlist>=1.1.1 in /opt/conda/lib/python3.10/site-packages (from aiohttp!=4.0.0a0,!=4.0.0a1->fsspec[http]>2021.06.0->pytorch_lightning==2.0.4->-r /kaggle/input/smooseg-image-try6/requirements.txt (line 13)) (1.4.1)\n",
      "Requirement already satisfied: multidict<7.0,>=4.5 in /opt/conda/lib/python3.10/site-packages (from aiohttp!=4.0.0a0,!=4.0.0a1->fsspec[http]>2021.06.0->pytorch_lightning==2.0.4->-r /kaggle/input/smooseg-image-try6/requirements.txt (line 13)) (6.0.5)\n",
      "Requirement already satisfied: yarl<2.0,>=1.0 in /opt/conda/lib/python3.10/site-packages (from aiohttp!=4.0.0a0,!=4.0.0a1->fsspec[http]>2021.06.0->pytorch_lightning==2.0.4->-r /kaggle/input/smooseg-image-try6/requirements.txt (line 13)) (1.9.4)\n",
      "Requirement already satisfied: async-timeout<5.0,>=4.0 in /opt/conda/lib/python3.10/site-packages (from aiohttp!=4.0.0a0,!=4.0.0a1->fsspec[http]>2021.06.0->pytorch_lightning==2.0.4->-r /kaggle/input/smooseg-image-try6/requirements.txt (line 13)) (4.0.3)\n",
      "Requirement already satisfied: pycparser in /opt/conda/lib/python3.10/site-packages (from cffi>=1.12->cryptography!=1.9,!=2.0.*,!=2.1.*,!=2.2.*->azureml_core==1.52.0->-r /kaggle/input/smooseg-image-try6/requirements.txt (line 2)) (2.22)\n",
      "Requirement already satisfied: oauthlib>=3.0.0 in /opt/conda/lib/python3.10/site-packages (from requests-oauthlib>=0.7.0->google-auth-oauthlib<1.1,>=0.5->tensorboard==2.13.0->-r /kaggle/input/smooseg-image-try6/requirements.txt (line 20)) (3.2.2)\n",
      "Requirement already satisfied: mpmath<1.4,>=1.1.0 in /opt/conda/lib/python3.10/site-packages (from sympy->torch>=1.11.0->pytorch_lightning==2.0.4->-r /kaggle/input/smooseg-image-try6/requirements.txt (line 13)) (1.3.0)\n",
      "\u001b[33mWARNING: The candidate selected for download or install is a yanked version: 'opencv-python-headless' candidate (version 4.8.0.74 at https://files.pythonhosted.org/packages/76/02/f128517f3ade4bb5f71e2afd8461dba70e3f466ce745fa1fd1fade9ad1b7/opencv_python_headless-4.8.0.74-cp37-abi3-manylinux_2_17_x86_64.manylinux2014_x86_64.whl (from https://pypi.org/simple/opencv-python-headless/) (requires-python:>=3.6))\n",
      "Reason for being yanked: deprecated, use 4.8.0.76\u001b[0m\u001b[33m\n",
      "\u001b[0mDownloading azureml-0.2.7-py2.py3-none-any.whl (23 kB)\n",
      "Downloading azureml_core-1.52.0-py3-none-any.whl (3.3 MB)\n",
      "\u001b[2K   \u001b[90m━━━━━━━━━━━━━━━━━━━━━━━━━━━━━━━━━━━━━━━━\u001b[0m \u001b[32m3.3/3.3 MB\u001b[0m \u001b[31m49.3 MB/s\u001b[0m eta \u001b[36m0:00:00\u001b[0ma \u001b[36m0:00:01\u001b[0m\n",
      "\u001b[?25hDownloading einops-0.7.0-py3-none-any.whl (44 kB)\n",
      "\u001b[2K   \u001b[90m━━━━━━━━━━━━━━━━━━━━━━━━━━━━━━━━━━━━━━━━\u001b[0m \u001b[32m44.6/44.6 kB\u001b[0m \u001b[31m2.7 MB/s\u001b[0m eta \u001b[36m0:00:00\u001b[0m\n",
      "\u001b[?25hDownloading hydra_core-1.3.2-py3-none-any.whl (154 kB)\n",
      "\u001b[2K   \u001b[90m━━━━━━━━━━━━━━━━━━━━━━━━━━━━━━━━━━━━━━━━\u001b[0m \u001b[32m154.5/154.5 kB\u001b[0m \u001b[31m10.2 MB/s\u001b[0m eta \u001b[36m0:00:00\u001b[0m\n",
      "\u001b[?25hDownloading matplotlib-3.7.1-cp310-cp310-manylinux_2_17_x86_64.manylinux2014_x86_64.whl (11.6 MB)\n",
      "\u001b[2K   \u001b[90m━━━━━━━━━━━━━━━━━━━━━━━━━━━━━━━━━━━━━━━━\u001b[0m \u001b[32m11.6/11.6 MB\u001b[0m \u001b[31m102.1 MB/s\u001b[0m eta \u001b[36m0:00:00\u001b[0m00:01\u001b[0m0:01\u001b[0m\n",
      "\u001b[?25hDownloading numpy-1.25.0-cp310-cp310-manylinux_2_17_x86_64.manylinux2014_x86_64.whl (17.6 MB)\n",
      "\u001b[2K   \u001b[90m━━━━━━━━━━━━━━━━━━━━━━━━━━━━━━━━━━━━━━━━\u001b[0m \u001b[32m17.6/17.6 MB\u001b[0m \u001b[31m90.2 MB/s\u001b[0m eta \u001b[36m0:00:00\u001b[0m:00:01\u001b[0m00:01\u001b[0m\n",
      "\u001b[?25hDownloading omegaconf-2.3.0-py3-none-any.whl (79 kB)\n",
      "\u001b[2K   \u001b[90m━━━━━━━━━━━━━━━━━━━━━━━━━━━━━━━━━━━━━━━━\u001b[0m \u001b[32m79.5/79.5 kB\u001b[0m \u001b[31m5.4 MB/s\u001b[0m eta \u001b[36m0:00:00\u001b[0m\n",
      "\u001b[?25hDownloading opencv_python-4.8.0.74-cp37-abi3-manylinux_2_17_x86_64.manylinux2014_x86_64.whl (61.7 MB)\n",
      "\u001b[2K   \u001b[90m━━━━━━━━━━━━━━━━━━━━━━━━━━━━━━━━━━━━━━━━\u001b[0m \u001b[32m61.7/61.7 MB\u001b[0m \u001b[31m29.0 MB/s\u001b[0m eta \u001b[36m0:00:00\u001b[0m:00:01\u001b[0m00:01\u001b[0m\n",
      "\u001b[?25hDownloading opencv_python_headless-4.8.0.74-cp37-abi3-manylinux_2_17_x86_64.manylinux2014_x86_64.whl (49.1 MB)\n",
      "\u001b[2K   \u001b[90m━━━━━━━━━━━━━━━━━━━━━━━━━━━━━━━━━━━━━━━━\u001b[0m \u001b[32m49.1/49.1 MB\u001b[0m \u001b[31m35.4 MB/s\u001b[0m eta \u001b[36m0:00:00\u001b[0m:00:01\u001b[0m00:01\u001b[0m\n",
      "\u001b[?25hDownloading Pillow-10.1.0-cp310-cp310-manylinux_2_28_x86_64.whl (3.6 MB)\n",
      "\u001b[2K   \u001b[90m━━━━━━━━━━━━━━━━━━━━━━━━━━━━━━━━━━━━━━━━\u001b[0m \u001b[32m3.6/3.6 MB\u001b[0m \u001b[31m86.2 MB/s\u001b[0m eta \u001b[36m0:00:00\u001b[0m:00:01\u001b[0m\n",
      "\u001b[?25hDownloading pytorch_lightning-2.0.4-py3-none-any.whl (721 kB)\n",
      "\u001b[2K   \u001b[90m━━━━━━━━━━━━━━━━━━━━━━━━━━━━━━━━━━━━━━━━\u001b[0m \u001b[32m721.2/721.2 kB\u001b[0m \u001b[31m39.1 MB/s\u001b[0m eta \u001b[36m0:00:00\u001b[0m\n",
      "\u001b[?25hDownloading scikit_learn-1.3.0-cp310-cp310-manylinux_2_17_x86_64.manylinux2014_x86_64.whl (10.8 MB)\n",
      "\u001b[2K   \u001b[90m━━━━━━━━━━━━━━━━━━━━━━━━━━━━━━━━━━━━━━━━\u001b[0m \u001b[32m10.8/10.8 MB\u001b[0m \u001b[31m104.0 MB/s\u001b[0m eta \u001b[36m0:00:00\u001b[0m00:01\u001b[0m0:01\u001b[0m\n",
      "\u001b[?25hDownloading scipy-1.11.3-cp310-cp310-manylinux_2_17_x86_64.manylinux2014_x86_64.whl (36.4 MB)\n",
      "\u001b[2K   \u001b[90m━━━━━━━━━━━━━━━━━━━━━━━━━━━━━━━━━━━━━━━━\u001b[0m \u001b[32m36.4/36.4 MB\u001b[0m \u001b[31m50.1 MB/s\u001b[0m eta \u001b[36m0:00:00\u001b[0m:00:01\u001b[0m00:01\u001b[0m\n",
      "\u001b[?25hDownloading submitit-1.5.0-py3-none-any.whl (74 kB)\n",
      "\u001b[2K   \u001b[90m━━━━━━━━━━━━━━━━━━━━━━━━━━━━━━━━━━━━━━━━\u001b[0m \u001b[32m74.4/74.4 kB\u001b[0m \u001b[31m4.9 MB/s\u001b[0m eta \u001b[36m0:00:00\u001b[0m\n",
      "\u001b[?25hDownloading timm-0.9.2-py3-none-any.whl (2.2 MB)\n",
      "\u001b[2K   \u001b[90m━━━━━━━━━━━━━━━━━━━━━━━━━━━━━━━━━━━━━━━━\u001b[0m \u001b[32m2.2/2.2 MB\u001b[0m \u001b[31m71.8 MB/s\u001b[0m eta \u001b[36m0:00:00\u001b[0m\n",
      "\u001b[?25hDownloading tqdm-4.65.0-py3-none-any.whl (77 kB)\n",
      "\u001b[2K   \u001b[90m━━━━━━━━━━━━━━━━━━━━━━━━━━━━━━━━━━━━━━━━\u001b[0m \u001b[32m77.1/77.1 kB\u001b[0m \u001b[31m5.0 MB/s\u001b[0m eta \u001b[36m0:00:00\u001b[0m\n",
      "\u001b[?25hDownloading tensorboard-2.13.0-py3-none-any.whl (5.6 MB)\n",
      "\u001b[2K   \u001b[90m━━━━━━━━━━━━━━━━━━━━━━━━━━━━━━━━━━━━━━━━\u001b[0m \u001b[32m5.6/5.6 MB\u001b[0m \u001b[31m100.9 MB/s\u001b[0m eta \u001b[36m0:00:00\u001b[0m00:01\u001b[0m\n",
      "\u001b[?25hDownloading adal-1.2.7-py2.py3-none-any.whl (55 kB)\n",
      "\u001b[2K   \u001b[90m━━━━━━━━━━━━━━━━━━━━━━━━━━━━━━━━━━━━━━━━\u001b[0m \u001b[32m55.5/55.5 kB\u001b[0m \u001b[31m3.6 MB/s\u001b[0m eta \u001b[36m0:00:00\u001b[0m\n",
      "\u001b[?25hDownloading argcomplete-2.1.2-py3-none-any.whl (37 kB)\n",
      "Downloading azure_common-1.1.28-py2.py3-none-any.whl (14 kB)\n",
      "Downloading azure_core-1.32.0-py3-none-any.whl (198 kB)\n",
      "\u001b[2K   \u001b[90m━━━━━━━━━━━━━━━━━━━━━━━━━━━━━━━━━━━━━━━━\u001b[0m \u001b[32m198.9/198.9 kB\u001b[0m \u001b[31m11.9 MB/s\u001b[0m eta \u001b[36m0:00:00\u001b[0m\n",
      "\u001b[?25hDownloading azure_graphrbac-0.61.2-py2.py3-none-any.whl (142 kB)\n",
      "\u001b[2K   \u001b[90m━━━━━━━━━━━━━━━━━━━━━━━━━━━━━━━━━━━━━━━━\u001b[0m \u001b[32m142.5/142.5 kB\u001b[0m \u001b[31m9.1 MB/s\u001b[0m eta \u001b[36m0:00:00\u001b[0m\n",
      "\u001b[?25hDownloading azure_mgmt_authorization-3.0.0-py3-none-any.whl (965 kB)\n",
      "\u001b[2K   \u001b[90m━━━━━━━━━━━━━━━━━━━━━━━━━━━━━━━━━━━━━━━━\u001b[0m \u001b[32m965.9/965.9 kB\u001b[0m \u001b[31m42.7 MB/s\u001b[0m eta \u001b[36m0:00:00\u001b[0m\n",
      "\u001b[?25hDownloading azure_mgmt_containerregistry-10.3.0-py3-none-any.whl (2.3 MB)\n",
      "\u001b[2K   \u001b[90m━━━━━━━━━━━━━━━━━━━━━━━━━━━━━━━━━━━━━━━━\u001b[0m \u001b[32m2.3/2.3 MB\u001b[0m \u001b[31m70.7 MB/s\u001b[0m eta \u001b[36m0:00:00\u001b[0m\n",
      "\u001b[?25hDownloading azure_mgmt_keyvault-10.3.1-py3-none-any.whl (901 kB)\n",
      "\u001b[2K   \u001b[90m━━━━━━━━━━━━━━━━━━━━━━━━━━━━━━━━━━━━━━━━\u001b[0m \u001b[32m901.4/901.4 kB\u001b[0m \u001b[31m44.7 MB/s\u001b[0m eta \u001b[36m0:00:00\u001b[0m\n",
      "\u001b[?25hDownloading azure_mgmt_resource-22.0.0-py3-none-any.whl (2.4 MB)\n",
      "\u001b[2K   \u001b[90m━━━━━━━━━━━━━━━━━━━━━━━━━━━━━━━━━━━━━━━━\u001b[0m \u001b[32m2.4/2.4 MB\u001b[0m \u001b[31m70.5 MB/s\u001b[0m eta \u001b[36m0:00:00\u001b[0m:00:01\u001b[0m\n",
      "\u001b[?25hDownloading azure_mgmt_storage-21.0.0-py3-none-any.whl (2.8 MB)\n",
      "\u001b[2K   \u001b[90m━━━━━━━━━━━━━━━━━━━━━━━━━━━━━━━━━━━━━━━━\u001b[0m \u001b[32m2.8/2.8 MB\u001b[0m \u001b[31m78.3 MB/s\u001b[0m eta \u001b[36m0:00:00\u001b[0m:00:01\u001b[0m\n",
      "\u001b[?25hDownloading contextlib2-21.6.0-py2.py3-none-any.whl (13 kB)\n",
      "Downloading docker-6.1.3-py3-none-any.whl (148 kB)\n",
      "\u001b[2K   \u001b[90m━━━━━━━━━━━━━━━━━━━━━━━━━━━━━━━━━━━━━━━━\u001b[0m \u001b[32m148.1/148.1 kB\u001b[0m \u001b[31m9.4 MB/s\u001b[0m eta \u001b[36m0:00:00\u001b[0m\n",
      "\u001b[?25hDownloading google_auth_oauthlib-1.0.0-py2.py3-none-any.whl (18 kB)\n",
      "Downloading humanfriendly-10.0-py2.py3-none-any.whl (86 kB)\n",
      "\u001b[2K   \u001b[90m━━━━━━━━━━━━━━━━━━━━━━━━━━━━━━━━━━━━━━━━\u001b[0m \u001b[32m86.8/86.8 kB\u001b[0m \u001b[31m5.8 MB/s\u001b[0m eta \u001b[36m0:00:00\u001b[0m\n",
      "\u001b[?25hDownloading jsonpickle-3.4.2-py3-none-any.whl (46 kB)\n",
      "\u001b[2K   \u001b[90m━━━━━━━━━━━━━━━━━━━━━━━━━━━━━━━━━━━━━━━━\u001b[0m \u001b[32m46.3/46.3 kB\u001b[0m \u001b[31m2.5 MB/s\u001b[0m eta \u001b[36m0:00:00\u001b[0m\n",
      "\u001b[?25hDownloading knack-0.10.1-py3-none-any.whl (61 kB)\n",
      "\u001b[2K   \u001b[90m━━━━━━━━━━━━━━━━━━━━━━━━━━━━━━━━━━━━━━━━\u001b[0m \u001b[32m61.1/61.1 kB\u001b[0m \u001b[31m4.1 MB/s\u001b[0m eta \u001b[36m0:00:00\u001b[0m\n",
      "\u001b[?25hDownloading msal-1.31.1-py3-none-any.whl (113 kB)\n",
      "\u001b[2K   \u001b[90m━━━━━━━━━━━━━━━━━━━━━━━━━━━━━━━━━━━━━━━━\u001b[0m \u001b[32m113.2/113.2 kB\u001b[0m \u001b[31m7.7 MB/s\u001b[0m eta \u001b[36m0:00:00\u001b[0m\n",
      "\u001b[?25hDownloading msal_extensions-1.0.0-py2.py3-none-any.whl (19 kB)\n",
      "Downloading msrest-0.7.1-py3-none-any.whl (85 kB)\n",
      "\u001b[2K   \u001b[90m━━━━━━━━━━━━━━━━━━━━━━━━━━━━━━━━━━━━━━━━\u001b[0m \u001b[32m85.4/85.4 kB\u001b[0m \u001b[31m6.1 MB/s\u001b[0m eta \u001b[36m0:00:00\u001b[0m\n",
      "\u001b[?25hDownloading msrestazure-0.6.4-py2.py3-none-any.whl (40 kB)\n",
      "\u001b[2K   \u001b[90m━━━━━━━━━━━━━━━━━━━━━━━━━━━━━━━━━━━━━━━━\u001b[0m \u001b[32m40.5/40.5 kB\u001b[0m \u001b[31m2.1 MB/s\u001b[0m eta \u001b[36m0:00:00\u001b[0m\n",
      "\u001b[?25hDownloading ndg_httpsclient-0.5.1-py3-none-any.whl (34 kB)\n",
      "Downloading paramiko-3.5.0-py3-none-any.whl (227 kB)\n",
      "\u001b[2K   \u001b[90m━━━━━━━━━━━━━━━━━━━━━━━━━━━━━━━━━━━━━━━━\u001b[0m \u001b[32m227.1/227.1 kB\u001b[0m \u001b[31m15.2 MB/s\u001b[0m eta \u001b[36m0:00:00\u001b[0m\n",
      "\u001b[?25hDownloading pathspec-0.12.1-py3-none-any.whl (31 kB)\n",
      "Downloading pyOpenSSL-23.3.0-py3-none-any.whl (58 kB)\n",
      "\u001b[2K   \u001b[90m━━━━━━━━━━━━━━━━━━━━━━━━━━━━━━━━━━━━━━━━\u001b[0m \u001b[32m58.8/58.8 kB\u001b[0m \u001b[31m3.7 MB/s\u001b[0m eta \u001b[36m0:00:00\u001b[0m\n",
      "\u001b[?25hDownloading cryptography-41.0.7-cp37-abi3-manylinux_2_28_x86_64.whl (4.4 MB)\n",
      "\u001b[2K   \u001b[90m━━━━━━━━━━━━━━━━━━━━━━━━━━━━━━━━━━━━━━━━\u001b[0m \u001b[32m4.4/4.4 MB\u001b[0m \u001b[31m86.4 MB/s\u001b[0m eta \u001b[36m0:00:00\u001b[0m:00:01\u001b[0m\n",
      "\u001b[?25hDownloading yacs-0.1.8-py3-none-any.whl (14 kB)\n",
      "Downloading backports.tempfile-1.0-py2.py3-none-any.whl (4.4 kB)\n",
      "Downloading pkginfo-1.12.0-py3-none-any.whl (32 kB)\n",
      "Downloading azure_mgmt_core-1.5.0-py3-none-any.whl (30 kB)\n",
      "Downloading bcrypt-4.2.1-cp39-abi3-manylinux_2_28_x86_64.whl (278 kB)\n",
      "\u001b[2K   \u001b[90m━━━━━━━━━━━━━━━━━━━━━━━━━━━━━━━━━━━━━━━━\u001b[0m \u001b[32m278.6/278.6 kB\u001b[0m \u001b[31m19.0 MB/s\u001b[0m eta \u001b[36m0:00:00\u001b[0m\n",
      "\u001b[?25hDownloading isodate-0.7.2-py3-none-any.whl (22 kB)\n",
      "Downloading portalocker-2.10.1-py3-none-any.whl (18 kB)\n",
      "Downloading PyNaCl-1.5.0-cp36-abi3-manylinux_2_17_x86_64.manylinux2014_x86_64.manylinux_2_24_x86_64.whl (856 kB)\n",
      "\u001b[2K   \u001b[90m━━━━━━━━━━━━━━━━━━━━━━━━━━━━━━━━━━━━━━━━\u001b[0m \u001b[32m856.7/856.7 kB\u001b[0m \u001b[31m42.4 MB/s\u001b[0m eta \u001b[36m0:00:00\u001b[0m\n",
      "\u001b[?25hDownloading backports.weakref-1.0.post1-py2.py3-none-any.whl (5.2 kB)\n",
      "Building wheels for collected packages: fvcore, pycocotools, wget, antlr4-python3-runtime, pydensecrf, iopath\n",
      "  Building wheel for fvcore (setup.py) ... \u001b[?25ldone\n",
      "\u001b[?25h  Created wheel for fvcore: filename=fvcore-0.1.5.post20221221-py3-none-any.whl size=61400 sha256=17577f17ac1cbf023a7ad31f67359574e8c1910c8472134fd128487fbd88af27\n",
      "  Stored in directory: /root/.cache/pip/wheels/01/c0/af/77c1cf53a1be9e42a52b48e5af2169d40ec2e89f7362489dd0\n",
      "  Building wheel for pycocotools (pyproject.toml) ... \u001b[?25ldone\n",
      "\u001b[?25h  Created wheel for pycocotools: filename=pycocotools-2.0.6-cp310-cp310-linux_x86_64.whl size=101988 sha256=f7b2e779f5f8dbc0589786c8310510b8bed907a0b1b6f6a8942e196d631dc49d\n",
      "  Stored in directory: /root/.cache/pip/wheels/58/e6/f9/f87c8f8be098b51b616871315318329cae12cdb618f4caac93\n",
      "  Building wheel for wget (setup.py) ... \u001b[?25ldone\n",
      "\u001b[?25h  Created wheel for wget: filename=wget-3.2-py3-none-any.whl size=9656 sha256=ce5aa34ed90d6b26580d46a7b8ae229223b08c069f2be299450ccff754044941\n",
      "  Stored in directory: /root/.cache/pip/wheels/8b/f1/7f/5c94f0a7a505ca1c81cd1d9208ae2064675d97582078e6c769\n",
      "  Building wheel for antlr4-python3-runtime (setup.py) ... \u001b[?25ldone\n",
      "\u001b[?25h  Created wheel for antlr4-python3-runtime: filename=antlr4_python3_runtime-4.9.3-py3-none-any.whl size=144554 sha256=8bb7c69ba39585f708f60b0f82bdd6700ef35700ea8c24cb17ef6a33fcf05d25\n",
      "  Stored in directory: /root/.cache/pip/wheels/12/93/dd/1f6a127edc45659556564c5730f6d4e300888f4bca2d4c5a88\n",
      "  Building wheel for pydensecrf (pyproject.toml) ... \u001b[?25ldone\n",
      "\u001b[?25h  Created wheel for pydensecrf: filename=pydensecrf-1.0-cp310-cp310-linux_x86_64.whl size=270354 sha256=17605c10f6ccd78585ce3cd6e2a0df4cd105a2bb75aa21c9cbfb76b82d4d9d57\n",
      "  Stored in directory: /tmp/pip-ephem-wheel-cache-pzjkmdsb/wheels/01/5b/61/87443ed3bf03dd2940375cf2f8b6fba88efece935465e490b0\n",
      "  Building wheel for iopath (setup.py) ... \u001b[?25ldone\n",
      "\u001b[?25h  Created wheel for iopath: filename=iopath-0.1.10-py3-none-any.whl size=31532 sha256=725d2d84858481ca0f633a9616451646e96dd07f86613e87f9b5a5c90dec0cc8\n",
      "  Stored in directory: /root/.cache/pip/wheels/9a/a3/b6/ac0fcd1b4ed5cfeb3db92e6a0e476cfd48ed0df92b91080c1d\n",
      "Successfully built fvcore pycocotools wget antlr4-python3-runtime pydensecrf iopath\n",
      "Installing collected packages: wget, pydensecrf, backports.weakref, azure-common, antlr4-python3-runtime, yacs, tqdm, submitit, portalocker, pkginfo, Pillow, pathspec, omegaconf, numpy, jsonpickle, isodate, humanfriendly, einops, contextlib2, bcrypt, backports.tempfile, argcomplete, scipy, pynacl, opencv_python_headless, opencv_python, knack, iopath, hydra-core, docker, cryptography, azure-core, scikit_learn, pyopenssl, paramiko, msrest, matplotlib, google-auth-oauthlib, fvcore, azureml, azure-mgmt-core, adal, timm, tensorboard, pytorch_lightning, pycocotools, ndg-httpsclient, msrestazure, msal, azure-mgmt-storage, azure-mgmt-resource, azure-mgmt-keyvault, azure-mgmt-containerregistry, azure-mgmt-authorization, msal-extensions, azure-graphrbac, azureml_core\n",
      "  Attempting uninstall: tqdm\n",
      "    Found existing installation: tqdm 4.66.4\n",
      "    Uninstalling tqdm-4.66.4:\n",
      "      Successfully uninstalled tqdm-4.66.4\n",
      "  Attempting uninstall: Pillow\n",
      "    Found existing installation: pillow 10.3.0\n",
      "    Uninstalling pillow-10.3.0:\n",
      "      Successfully uninstalled pillow-10.3.0\n",
      "  Attempting uninstall: numpy\n",
      "    Found existing installation: numpy 1.26.4\n",
      "    Uninstalling numpy-1.26.4:\n",
      "      Successfully uninstalled numpy-1.26.4\n",
      "  Attempting uninstall: scipy\n",
      "    Found existing installation: scipy 1.14.1\n",
      "    Uninstalling scipy-1.14.1:\n",
      "      Successfully uninstalled scipy-1.14.1\n",
      "  Attempting uninstall: opencv_python_headless\n",
      "    Found existing installation: opencv-python-headless 4.10.0.84\n",
      "    Uninstalling opencv-python-headless-4.10.0.84:\n",
      "      Successfully uninstalled opencv-python-headless-4.10.0.84\n",
      "  Attempting uninstall: opencv_python\n",
      "    Found existing installation: opencv-python 4.10.0.84\n",
      "    Uninstalling opencv-python-4.10.0.84:\n",
      "      Successfully uninstalled opencv-python-4.10.0.84\n",
      "  Attempting uninstall: docker\n",
      "    Found existing installation: docker 7.1.0\n",
      "    Uninstalling docker-7.1.0:\n",
      "      Successfully uninstalled docker-7.1.0\n",
      "  Attempting uninstall: cryptography\n",
      "    Found existing installation: cryptography 42.0.8\n",
      "    Uninstalling cryptography-42.0.8:\n",
      "      Successfully uninstalled cryptography-42.0.8\n",
      "  Attempting uninstall: scikit_learn\n",
      "    Found existing installation: scikit-learn 1.2.2\n",
      "    Uninstalling scikit-learn-1.2.2:\n",
      "      Successfully uninstalled scikit-learn-1.2.2\n",
      "  Attempting uninstall: pyopenssl\n",
      "    Found existing installation: pyOpenSSL 24.0.0\n",
      "    Uninstalling pyOpenSSL-24.0.0:\n",
      "      Successfully uninstalled pyOpenSSL-24.0.0\n",
      "  Attempting uninstall: matplotlib\n",
      "    Found existing installation: matplotlib 3.7.5\n",
      "    Uninstalling matplotlib-3.7.5:\n",
      "      Successfully uninstalled matplotlib-3.7.5\n",
      "  Attempting uninstall: google-auth-oauthlib\n",
      "    Found existing installation: google-auth-oauthlib 1.2.0\n",
      "    Uninstalling google-auth-oauthlib-1.2.0:\n",
      "      Successfully uninstalled google-auth-oauthlib-1.2.0\n",
      "  Attempting uninstall: timm\n",
      "    Found existing installation: timm 1.0.11\n",
      "    Uninstalling timm-1.0.11:\n",
      "      Successfully uninstalled timm-1.0.11\n",
      "  Attempting uninstall: tensorboard\n",
      "    Found existing installation: tensorboard 2.16.2\n",
      "    Uninstalling tensorboard-2.16.2:\n",
      "      Successfully uninstalled tensorboard-2.16.2\n",
      "  Attempting uninstall: pytorch_lightning\n",
      "    Found existing installation: pytorch-lightning 2.4.0\n",
      "    Uninstalling pytorch-lightning-2.4.0:\n",
      "      Successfully uninstalled pytorch-lightning-2.4.0\n",
      "\u001b[31mERROR: pip's dependency resolver does not currently take into account all the packages that are installed. This behaviour is the source of the following dependency conflicts.\n",
      "cudf 24.10.1 requires cubinlinker, which is not installed.\n",
      "cudf 24.10.1 requires cupy-cuda11x>=12.0.0, which is not installed.\n",
      "cudf 24.10.1 requires libcudf==24.10.*, which is not installed.\n",
      "cudf 24.10.1 requires ptxcompiler, which is not installed.\n",
      "cuml 24.10.0 requires cupy-cuda11x>=12.0.0, which is not installed.\n",
      "cuml 24.10.0 requires cuvs==24.10.*, which is not installed.\n",
      "cuml 24.10.0 requires nvidia-cublas, which is not installed.\n",
      "cuml 24.10.0 requires nvidia-cufft, which is not installed.\n",
      "cuml 24.10.0 requires nvidia-curand, which is not installed.\n",
      "cuml 24.10.0 requires nvidia-cusolver, which is not installed.\n",
      "cuml 24.10.0 requires nvidia-cusparse, which is not installed.\n",
      "dask-cudf 24.10.1 requires cupy-cuda11x>=12.0.0, which is not installed.\n",
      "pylibcudf 24.10.1 requires libcudf==24.10.*, which is not installed.\n",
      "pylibraft 24.10.0 requires nvidia-cublas, which is not installed.\n",
      "pylibraft 24.10.0 requires nvidia-curand, which is not installed.\n",
      "pylibraft 24.10.0 requires nvidia-cusolver, which is not installed.\n",
      "pylibraft 24.10.0 requires nvidia-cusparse, which is not installed.\n",
      "ucxx 0.40.0 requires libucxx==0.40.*, which is not installed.\n",
      "albucore 0.0.20 requires opencv-python-headless>=4.9.0.80, but you have opencv-python-headless 4.8.0.74 which is incompatible.\n",
      "albumentations 1.4.21 requires opencv-python-headless>=4.9.0.80, but you have opencv-python-headless 4.8.0.74 which is incompatible.\n",
      "apache-beam 2.46.0 requires cloudpickle~=2.2.1, but you have cloudpickle 3.1.0 which is incompatible.\n",
      "apache-beam 2.46.0 requires dill<0.3.2,>=0.3.1.1, but you have dill 0.3.8 which is incompatible.\n",
      "apache-beam 2.46.0 requires numpy<1.25.0,>=1.14.3, but you have numpy 1.25.0 which is incompatible.\n",
      "apache-beam 2.46.0 requires pyarrow<10.0.0,>=3.0.0, but you have pyarrow 17.0.0 which is incompatible.\n",
      "beatrix-jupyterlab 2024.66.154055 requires jupyterlab~=3.6.0, but you have jupyterlab 4.3.1 which is incompatible.\n",
      "bigframes 0.22.0 requires google-cloud-bigquery[bqstorage,pandas]>=3.10.0, but you have google-cloud-bigquery 2.34.4 which is incompatible.\n",
      "bigframes 0.22.0 requires google-cloud-storage>=2.0.0, but you have google-cloud-storage 1.44.0 which is incompatible.\n",
      "bigframes 0.22.0 requires pandas<2.1.4,>=1.5.0, but you have pandas 2.2.3 which is incompatible.\n",
      "blis 1.0.1 requires numpy<3.0.0,>=2.0.0, but you have numpy 1.25.0 which is incompatible.\n",
      "cesium 0.12.3 requires numpy<3.0,>=2.0, but you have numpy 1.25.0 which is incompatible.\n",
      "conda 24.5.0 requires packaging>=23.0, but you have packaging 21.3 which is incompatible.\n",
      "cudf 24.10.1 requires cuda-python<12.0a0,>=11.7.1, but you have cuda-python 12.6.2.post1 which is incompatible.\n",
      "cudf 24.10.1 requires pandas<2.2.3dev0,>=2.0, but you have pandas 2.2.3 which is incompatible.\n",
      "dask-cudf 24.10.1 requires pandas<2.2.3dev0,>=2.0, but you have pandas 2.2.3 which is incompatible.\n",
      "dataproc-jupyter-plugin 0.1.79 requires pydantic~=1.10.0, but you have pydantic 2.10.1 which is incompatible.\n",
      "datasets 3.1.0 requires tqdm>=4.66.3, but you have tqdm 4.65.0 which is incompatible.\n",
      "featuretools 1.31.0 requires tqdm>=4.66.3, but you have tqdm 4.65.0 which is incompatible.\n",
      "gcsfs 2024.9.0.post1 requires fsspec==2024.9.0, but you have fsspec 2024.6.0 which is incompatible.\n",
      "ibis-framework 7.1.0 requires pyarrow<15,>=2, but you have pyarrow 17.0.0 which is incompatible.\n",
      "libpysal 4.9.2 requires packaging>=22, but you have packaging 21.3 which is incompatible.\n",
      "libpysal 4.9.2 requires shapely>=2.0.1, but you have shapely 1.8.5.post1 which is incompatible.\n",
      "mlxtend 0.23.3 requires scikit-learn>=1.3.1, but you have scikit-learn 1.3.0 which is incompatible.\n",
      "plotnine 0.14.3 requires matplotlib>=3.8.0, but you have matplotlib 3.7.1 which is incompatible.\n",
      "pylibcudf 24.10.1 requires cuda-python<12.0a0,>=11.7.1, but you have cuda-python 12.6.2.post1 which is incompatible.\n",
      "rmm 24.10.0 requires cuda-python<12.0a0,>=11.7.1, but you have cuda-python 12.6.2.post1 which is incompatible.\n",
      "tensorflow 2.16.1 requires tensorboard<2.17,>=2.16, but you have tensorboard 2.13.0 which is incompatible.\n",
      "thinc 8.3.2 requires numpy<2.1.0,>=2.0.0; python_version >= \"3.9\", but you have numpy 1.25.0 which is incompatible.\n",
      "tsfresh 0.20.3 requires scipy>=1.14.0; python_version >= \"3.10\", but you have scipy 1.11.3 which is incompatible.\n",
      "xarray 2024.11.0 requires packaging>=23.2, but you have packaging 21.3 which is incompatible.\u001b[0m\u001b[31m\n",
      "\u001b[0mSuccessfully installed Pillow-10.1.0 adal-1.2.7 antlr4-python3-runtime-4.9.3 argcomplete-2.1.2 azure-common-1.1.28 azure-core-1.32.0 azure-graphrbac-0.61.2 azure-mgmt-authorization-3.0.0 azure-mgmt-containerregistry-10.3.0 azure-mgmt-core-1.5.0 azure-mgmt-keyvault-10.3.1 azure-mgmt-resource-22.0.0 azure-mgmt-storage-21.0.0 azureml-0.2.7 azureml_core-1.52.0 backports.tempfile-1.0 backports.weakref-1.0.post1 bcrypt-4.2.1 contextlib2-21.6.0 cryptography-41.0.7 docker-6.1.3 einops-0.7.0 fvcore-0.1.5.post20221221 google-auth-oauthlib-1.0.0 humanfriendly-10.0 hydra-core-1.3.2 iopath-0.1.10 isodate-0.7.2 jsonpickle-3.4.2 knack-0.10.1 matplotlib-3.7.1 msal-1.31.1 msal-extensions-1.0.0 msrest-0.7.1 msrestazure-0.6.4 ndg-httpsclient-0.5.1 numpy-1.25.0 omegaconf-2.3.0 opencv_python-4.8.0.74 opencv_python_headless-4.8.0.74 paramiko-3.5.0 pathspec-0.12.1 pkginfo-1.12.0 portalocker-2.10.1 pycocotools-2.0.6 pydensecrf-1.0 pynacl-1.5.0 pyopenssl-23.3.0 pytorch_lightning-2.0.4 scikit_learn-1.3.0 scipy-1.11.3 submitit-1.5.0 tensorboard-2.13.0 timm-0.9.2 tqdm-4.65.0 wget-3.2 yacs-0.1.8\n"
     ]
    }
   ],
   "source": [
    "!pip install -r /kaggle/input/segunify-image-try6/requirements.txt"
   ]
  },
  {
   "cell_type": "code",
   "execution_count": 5,
   "metadata": {
    "execution": {
     "iopub.execute_input": "2024-12-29T14:51:22.988491Z",
     "iopub.status.busy": "2024-12-29T14:51:22.988163Z",
     "iopub.status.idle": "2024-12-29T14:53:08.196776Z",
     "shell.execute_reply": "2024-12-29T14:53:08.195612Z",
     "shell.execute_reply.started": "2024-12-29T14:51:22.988462Z"
    },
    "trusted": true
   },
   "outputs": [
    {
     "name": "stdout",
     "output_type": "stream",
     "text": [
      "Found existing installation: torch 2.4.0\n",
      "Uninstalling torch-2.4.0:\n",
      "  Successfully uninstalled torch-2.4.0\n",
      "Found existing installation: torchvision 0.19.0\n",
      "Uninstalling torchvision-0.19.0:\n",
      "  Successfully uninstalled torchvision-0.19.0\n",
      "Found existing installation: torchaudio 2.4.0\n",
      "Uninstalling torchaudio-2.4.0:\n",
      "  Successfully uninstalled torchaudio-2.4.0\n",
      "Looking in indexes: https://pypi.org/simple, https://download.pytorch.org/whl/cu116\n",
      "Collecting torch==1.12.1+cu116\n",
      "  Downloading https://download.pytorch.org/whl/cu116/torch-1.12.1%2Bcu116-cp310-cp310-linux_x86_64.whl (1904.8 MB)\n",
      "\u001b[2K     \u001b[90m━━━━━━━━━━━━━━━━━━━━━━━━━━━━━━━━━━━━━━━━\u001b[0m \u001b[32m1.9/1.9 GB\u001b[0m \u001b[31m469.5 kB/s\u001b[0m eta \u001b[36m0:00:00\u001b[0m00:01\u001b[0m00:01\u001b[0m\n",
      "\u001b[?25hCollecting torchvision==0.13.1+cu116\n",
      "  Downloading https://download.pytorch.org/whl/cu116/torchvision-0.13.1%2Bcu116-cp310-cp310-linux_x86_64.whl (23.5 MB)\n",
      "\u001b[2K     \u001b[90m━━━━━━━━━━━━━━━━━━━━━━━━━━━━━━━━━━━━━━━━\u001b[0m \u001b[32m23.5/23.5 MB\u001b[0m \u001b[31m65.5 MB/s\u001b[0m eta \u001b[36m0:00:00\u001b[0m00:01\u001b[0m00:01\u001b[0m\n",
      "\u001b[?25hCollecting torchaudio==0.12.1\n",
      "  Downloading https://download.pytorch.org/whl/cu116/torchaudio-0.12.1%2Bcu116-cp310-cp310-linux_x86_64.whl (3.8 MB)\n",
      "\u001b[2K     \u001b[90m━━━━━━━━━━━━━━━━━━━━━━━━━━━━━━━━━━━━━━━━\u001b[0m \u001b[32m3.8/3.8 MB\u001b[0m \u001b[31m92.3 MB/s\u001b[0m eta \u001b[36m0:00:00\u001b[0m:00:01\u001b[0m\n",
      "\u001b[?25hRequirement already satisfied: typing-extensions in /opt/conda/lib/python3.10/site-packages (from torch==1.12.1+cu116) (4.12.2)\n",
      "Requirement already satisfied: numpy in /opt/conda/lib/python3.10/site-packages (from torchvision==0.13.1+cu116) (1.25.0)\n",
      "Requirement already satisfied: requests in /opt/conda/lib/python3.10/site-packages (from torchvision==0.13.1+cu116) (2.32.3)\n",
      "Requirement already satisfied: pillow!=8.3.*,>=5.3.0 in /opt/conda/lib/python3.10/site-packages (from torchvision==0.13.1+cu116) (10.1.0)\n",
      "Requirement already satisfied: charset-normalizer<4,>=2 in /opt/conda/lib/python3.10/site-packages (from requests->torchvision==0.13.1+cu116) (3.3.2)\n",
      "Requirement already satisfied: idna<4,>=2.5 in /opt/conda/lib/python3.10/site-packages (from requests->torchvision==0.13.1+cu116) (3.7)\n",
      "Requirement already satisfied: urllib3<3,>=1.21.1 in /opt/conda/lib/python3.10/site-packages (from requests->torchvision==0.13.1+cu116) (1.26.18)\n",
      "Requirement already satisfied: certifi>=2017.4.17 in /opt/conda/lib/python3.10/site-packages (from requests->torchvision==0.13.1+cu116) (2024.6.2)\n",
      "Installing collected packages: torch, torchvision, torchaudio\n",
      "\u001b[31mERROR: pip's dependency resolver does not currently take into account all the packages that are installed. This behaviour is the source of the following dependency conflicts.\n",
      "stable-baselines3 2.1.0 requires torch>=1.13, but you have torch 1.12.1+cu116 which is incompatible.\n",
      "torchmetrics 1.6.0 requires torch>=2.0.0, but you have torch 1.12.1+cu116 which is incompatible.\u001b[0m\u001b[31m\n",
      "\u001b[0mSuccessfully installed torch-1.12.1+cu116 torchaudio-0.12.1+cu116 torchvision-0.13.1+cu116\n"
     ]
    }
   ],
   "source": [
    "!pip uninstall -y torch torchvision torchaudio\n",
    "!pip install torch==1.12.1+cu116 torchvision==0.13.1+cu116 torchaudio==0.12.1 --extra-index-url https://download.pytorch.org/whl/cu116"
   ]
  },
  {
   "cell_type": "code",
   "execution_count": null,
   "metadata": {
    "execution": {
     "iopub.execute_input": "2024-12-29T14:53:08.200475Z",
     "iopub.status.busy": "2024-12-29T14:53:08.199734Z",
     "iopub.status.idle": "2024-12-29T14:53:38.788524Z",
     "shell.execute_reply": "2024-12-29T14:53:38.787531Z",
     "shell.execute_reply.started": "2024-12-29T14:53:08.200429Z"
    },
    "trusted": true
   },
   "outputs": [
    {
     "name": "stdout",
     "output_type": "stream",
     "text": [
      "/kaggle/input/smooseg-image-try6/crop_datasets.py:284: UserWarning: \n",
      "The version_base parameter is not specified.\n",
      "Please specify a compatability version level, or None.\n",
      "Will assume defaults for version 1.1\n",
      "  @hydra.main(config_path=\"configs\", config_name=\"train_config.yaml\")\n",
      "/opt/conda/lib/python3.10/site-packages/hydra/_internal/hydra.py:119: UserWarning: Future Hydra versions will no longer change working directory at job runtime by default.\n",
      "See https://hydra.cc/docs/1.2/upgrades/1.1_to_1.2/changes_to_job_working_dir/ for more information.\n",
      "  ret = run_job(\n",
      "output_root: /kaggle/working/output/\n",
      "data_dir: /kaggle/input/\n",
      "experiment_name: exp1\n",
      "log_dir: logs\n",
      "checkpoint_dir: checkpts\n",
      "azureml_logging: true\n",
      "num_workers: 4\n",
      "max_steps: 3000\n",
      "batch_size: 32\n",
      "dataset_name: potsdam\n",
      "crop_type: five\n",
      "crop_ratio: 0.5\n",
      "res: 224\n",
      "loader_crop_type: center\n",
      "extra_clusters: 0\n",
      "model_type: vit_base\n",
      "arch: dino\n",
      "dino_feat_type: feat\n",
      "projection_type: nonlinear\n",
      "dino_patch_size: 8\n",
      "n_feats: 768\n",
      "dim: 64\n",
      "run_crf: false\n",
      "lr1: 0.0001\n",
      "lr2: 0.0005\n",
      "dropout: true\n",
      "temperature: 0.1\n",
      "alpha: 0.998\n",
      "pointwise: true\n",
      "seed: 0\n",
      "neg_inter_shift: 0.5\n",
      "pos_intra_shift: 0.1\n",
      "n_images: 6\n",
      "scalar_log_freq: 10\n",
      "checkpoint_freq: 400\n",
      "val_freq: 400\n",
      "hist_freq: 100\n",
      "\n",
      "[2024-12-29 14:53:13,253][lightning_fabric.utilities.seed][INFO] - Global seed set to 0\n",
      "100%|██████████████████████████████████████| 4545/4545 [00:24<00:00, 182.65it/s]\n"
     ]
    }
   ],
   "source": [
    "!python /kaggle/input/segunify-image-try6/crop_datasets.py"
   ]
  },
  {
   "cell_type": "code",
   "execution_count": 7,
   "metadata": {
    "execution": {
     "iopub.execute_input": "2024-12-29T14:53:38.790159Z",
     "iopub.status.busy": "2024-12-29T14:53:38.789878Z",
     "iopub.status.idle": "2024-12-29T14:53:40.587135Z",
     "shell.execute_reply": "2024-12-29T14:53:40.586318Z",
     "shell.execute_reply.started": "2024-12-29T14:53:38.790110Z"
    },
    "trusted": true
   },
   "outputs": [
    {
     "name": "stdout",
     "output_type": "stream",
     "text": [
      "Files removed: 385\n"
     ]
    }
   ],
   "source": [
    "!pip cache purge"
   ]
  },
  {
   "cell_type": "code",
   "execution_count": 8,
   "metadata": {
    "execution": {
     "iopub.execute_input": "2024-12-29T14:53:40.590734Z",
     "iopub.status.busy": "2024-12-29T14:53:40.589837Z",
     "iopub.status.idle": "2024-12-29T14:53:43.157016Z",
     "shell.execute_reply": "2024-12-29T14:53:43.155830Z",
     "shell.execute_reply.started": "2024-12-29T14:53:40.590690Z"
    },
    "trusted": true
   },
   "outputs": [
    {
     "name": "stdout",
     "output_type": "stream",
     "text": [
      "Collecting cryptography==42.0.8\n",
      "  Downloading cryptography-42.0.8-cp39-abi3-manylinux_2_28_x86_64.whl.metadata (5.3 kB)\n",
      "Downloading cryptography-42.0.8-cp39-abi3-manylinux_2_28_x86_64.whl (3.9 MB)\n",
      "\u001b[2K   \u001b[90m━━━━━━━━━━━━━━━━━━━━━━━━━━━━━━━━━━━━━━━━\u001b[0m \u001b[32m3.9/3.9 MB\u001b[0m \u001b[31m36.8 MB/s\u001b[0m eta \u001b[36m0:00:00\u001b[0m00:01\u001b[0m00:01\u001b[0m\n",
      "\u001b[?25hInstalling collected packages: cryptography\n",
      "Successfully installed cryptography-41.0.7\n"
     ]
    }
   ],
   "source": [
    "!pip install --force-reinstall --no-deps cryptography==42.0.8 --ignore-installed\n"
   ]
  },
  {
   "cell_type": "code",
   "execution_count": 9,
   "metadata": {
    "execution": {
     "iopub.execute_input": "2024-12-29T14:53:43.159510Z",
     "iopub.status.busy": "2024-12-29T14:53:43.158685Z",
     "iopub.status.idle": "2024-12-29T14:53:43.164286Z",
     "shell.execute_reply": "2024-12-29T14:53:43.163362Z",
     "shell.execute_reply.started": "2024-12-29T14:53:43.159448Z"
    },
    "trusted": true
   },
   "outputs": [],
   "source": [
    "os.environ['PYTORCH_CUDA_ALLOC_CONF'] = 'max_split_size_mb:128'"
   ]
  },
  {
   "cell_type": "code",
   "execution_count": null,
   "metadata": {
    "execution": {
     "iopub.execute_input": "2024-12-29T14:53:43.165635Z",
     "iopub.status.busy": "2024-12-29T14:53:43.165328Z",
     "iopub.status.idle": "2024-12-29T14:57:11.105024Z",
     "shell.execute_reply": "2024-12-29T14:57:11.104192Z",
     "shell.execute_reply.started": "2024-12-29T14:53:43.165597Z"
    },
    "trusted": true
   },
   "outputs": [
    {
     "name": "stdout",
     "output_type": "stream",
     "text": [
      "/opt/conda/lib/python3.10/site-packages/hydra/_internal/hydra.py:119: UserWarning: Future Hydra versions will no longer change working directory at job runtime by default.\n",
      "See https://hydra.cc/docs/1.2/upgrades/1.1_to_1.2/changes_to_job_working_dir/ for more information.\n",
      "  ret = run_job(\n",
      "Loading model from checkpoint: /kaggle/input/potsdam-exp1-ckpt/potsdam_exp1.ckpt\n",
      "Since no pretrained weights have been provided, we load the reference pretrained DINO weights.\n",
      "Downloading: \"https://dl.fbaipublicfiles.com/dino/dino_vitbase8_pretrain/dino_vitbase8_pretrain.pth\" to /root/.cache/torch/hub/checkpoints/dino_vitbase8_pretrain.pth\n",
      "100%|█████████████████████████████████████████| 327M/327M [00:01<00:00, 221MB/s]\n",
      "/opt/conda/lib/python3.10/site-packages/torchvision/transforms/transforms.py:332: UserWarning: Argument 'interpolation' of type int is deprecated since 0.13 and will be removed in 0.15. Please use InterpolationMode enum.\n",
      "  warnings.warn(\n",
      "100%|███████████████████████████████████████████| 54/54 [03:13<00:00,  3.58s/it]\n",
      "Test Metrics: {'final/cluster/mIoU': 70.34451961517334, 'final/cluster/Accuracy': 82.7437162399292}\n"
     ]
    }
   ],
   "source": [
    "!python /kaggle/input/segunify-image-try6/eval_segmentation.py"
   ]
  },
  {
   "cell_type": "code",
   "execution_count": 11,
   "metadata": {
    "execution": {
     "iopub.execute_input": "2024-12-29T14:57:11.106823Z",
     "iopub.status.busy": "2024-12-29T14:57:11.106498Z",
     "iopub.status.idle": "2024-12-29T14:57:13.406774Z",
     "shell.execute_reply": "2024-12-29T14:57:13.405896Z",
     "shell.execute_reply.started": "2024-12-29T14:57:11.106793Z"
    },
    "trusted": true
   },
   "outputs": [
    {
     "name": "stdout",
     "output_type": "stream",
     "text": [
      "Successfully created /kaggle/working/potsdam_results_images.zip\n"
     ]
    }
   ],
   "source": [
    "import shutil\n",
    "\n",
    "# Define paths\n",
    "output_dirs = {\n",
    "    'potsdam_results': '/kaggle/working/potsdam_results',\n",
    "}\n",
    "\n",
    "# Create zip files for each directory\n",
    "for folder_name, folder_path in output_dirs.items():\n",
    "    zip_path = f'/kaggle/working/{folder_name}_images.zip'\n",
    "    try:\n",
    "        shutil.make_archive(zip_path.replace('.zip', ''), 'zip', folder_path)\n",
    "        print(f\"Successfully created {zip_path}\")\n",
    "    except Exception as e:\n",
    "        print(f\"Error creating zip for {folder_name}: {str(e)}\")\n"
   ]
  },
  {
   "cell_type": "code",
   "execution_count": null,
   "metadata": {
    "trusted": true
   },
   "outputs": [],
   "source": []
  },
  {
   "cell_type": "code",
   "execution_count": null,
   "metadata": {
    "trusted": true
   },
   "outputs": [],
   "source": []
  },
  {
   "cell_type": "code",
   "execution_count": null,
   "metadata": {
    "trusted": true
   },
   "outputs": [],
   "source": []
  }
 ],
 "metadata": {
  "kaggle": {
   "accelerator": "gpu",
   "dataSources": [
    {
     "datasetId": 6029855,
     "sourceId": 9831373,
     "sourceType": "datasetVersion"
    },
    {
     "datasetId": 6259534,
     "sourceId": 10141574,
     "sourceType": "datasetVersion"
    },
    {
     "datasetId": 6263834,
     "sourceId": 10147249,
     "sourceType": "datasetVersion"
    },
    {
     "datasetId": 6393797,
     "sourceId": 10326326,
     "sourceType": "datasetVersion"
    },
    {
     "datasetId": 6393944,
     "sourceId": 10326527,
     "sourceType": "datasetVersion"
    },
    {
     "datasetId": 6394030,
     "sourceId": 10326653,
     "sourceType": "datasetVersion"
    },
    {
     "datasetId": 6394180,
     "sourceId": 10326868,
     "sourceType": "datasetVersion"
    }
   ],
   "dockerImageVersionId": 30804,
   "isGpuEnabled": true,
   "isInternetEnabled": true,
   "language": "python",
   "sourceType": "notebook"
  },
  "kernelspec": {
   "display_name": "Python 3",
   "language": "python",
   "name": "python3"
  },
  "language_info": {
   "codemirror_mode": {
    "name": "ipython",
    "version": 3
   },
   "file_extension": ".py",
   "mimetype": "text/x-python",
   "name": "python",
   "nbconvert_exporter": "python",
   "pygments_lexer": "ipython3",
   "version": "3.10.14"
  }
 },
 "nbformat": 4,
 "nbformat_minor": 4
}
